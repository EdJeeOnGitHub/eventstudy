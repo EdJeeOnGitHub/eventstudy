{
 "cells": [
  {
   "cell_type": "code",
   "execution_count": 2,
   "metadata": {},
   "outputs": [],
   "source": [
    "import numpy as np\n",
    "import datetime\n",
    "import eventstudy as es\n",
    "from eventstudy import excelExporter\n",
    "\n",
    "es.Single.import_returns('returns_small.csv')\n",
    "dates = ['05/11/2018', '03/11/2017', '26/10/2016', \n",
    "     '28/10/2015', '27/10/2014', '30/10/2013',\n",
    "     '31/10/2012', '26/10/2011', '27/10/2010']\n",
    "events = list()\n",
    "\n",
    "for date in dates:\n",
    "    formated_date = np.datetime64(\n",
    "        datetime.datetime.strptime(date, '%d/%m/%Y')   \n",
    "    )\n",
    "    event = es.Single.market_model(\n",
    "        security_ticker = 'AAPL',\n",
    "        market_ticker = 'SPY',\n",
    "        event_date = formated_date\n",
    "    )\n",
    "    events.append(event)\n",
    "\n",
    "agg = es.Multiple(events)"
   ]
  },
  {
   "cell_type": "code",
   "execution_count": 3,
   "metadata": {},
   "outputs": [],
   "source": [
    "event = es.Single.market_model(\n",
    "        security_ticker = 'AAPL',\n",
    "        market_ticker = 'SPY',\n",
    "        event_date = np.datetime64('2017-11-03')\n",
    "    )"
   ]
  },
  {
   "cell_type": "code",
   "execution_count": 5,
   "metadata": {},
   "outputs": [],
   "source": [
    "event.to_excel('my_file.xlsx')"
   ]
  },
  {
   "cell_type": "code",
   "execution_count": null,
   "metadata": {},
   "outputs": [],
   "source": []
  }
 ],
 "metadata": {
  "kernelspec": {
   "display_name": "Python 3",
   "language": "python",
   "name": "python3"
  },
  "language_info": {
   "codemirror_mode": {
    "name": "ipython",
    "version": 3
   },
   "file_extension": ".py",
   "mimetype": "text/x-python",
   "name": "python",
   "nbconvert_exporter": "python",
   "pygments_lexer": "ipython3",
   "version": "3.7.4"
  }
 },
 "nbformat": 4,
 "nbformat_minor": 4
}
